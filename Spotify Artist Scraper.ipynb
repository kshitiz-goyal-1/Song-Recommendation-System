{
 "cells": [
  {
   "cell_type": "code",
   "execution_count": 1,
   "id": "c602c4a1",
   "metadata": {},
   "outputs": [],
   "source": [
    "import json\n",
    "import requests\n",
    "import pandas as pd\n",
    "import numpy as np\n",
    "import matplotlib.pyplot as plt\n",
    "%matplotlib inline\n",
    "import librosa\n",
    "import math\n",
    "import time"
   ]
  },
  {
   "cell_type": "code",
   "execution_count": 2,
   "id": "f9a41952",
   "metadata": {},
   "outputs": [],
   "source": [
    "#Load the api client id and secret from file\n",
    "f = open('data/apikeys/apikeys.json')\n",
    "apikeys = json.load(f)\n",
    "CLIENT_ID = apikeys['clientId']\n",
    "CLIENT_SECRET = apikeys['clientSecret']"
   ]
  },
  {
   "cell_type": "code",
   "execution_count": 3,
   "id": "e2e8db46",
   "metadata": {},
   "outputs": [],
   "source": [
    "#get access token\n",
    "def authenticate_token():\n",
    "    AUTH_URL = 'https://accounts.spotify.com/api/token'\n",
    "\n",
    "    auth_response = requests.post(AUTH_URL, {\n",
    "        'grant_type': 'client_credentials',\n",
    "        'client_id': CLIENT_ID,\n",
    "        'client_secret': CLIENT_SECRET,\n",
    "    })\n",
    "\n",
    "    # convert the response to JSON\n",
    "    auth_response_data = auth_response.json()\n",
    "\n",
    "    # save the access token\n",
    "    access_token = auth_response_data['access_token']\n",
    "\n",
    "    headers = {\n",
    "        'Authorization': f'Bearer {access_token}'\n",
    "    }\n",
    "    return headers\n",
    "\n",
    "headers = authenticate_token()"
   ]
  },
  {
   "cell_type": "code",
   "execution_count": 4,
   "id": "bb610eb4",
   "metadata": {},
   "outputs": [],
   "source": [
    "# base URL of all Spotify API endpoints\n",
    "BASE_URL = 'https://api.spotify.com/v1/'\n",
    "\n",
    "genre_seeds = requests.get(BASE_URL + 'recommendations/available-genre-seeds', headers=headers)"
   ]
  },
  {
   "cell_type": "code",
   "execution_count": 5,
   "id": "02d30d32",
   "metadata": {},
   "outputs": [],
   "source": [
    "genre_seeds = genre_seeds.json()['genres']"
   ]
  },
  {
   "cell_type": "code",
   "execution_count": 6,
   "id": "4c11548d",
   "metadata": {},
   "outputs": [],
   "source": [
    "from pyarrow import feather\n",
    "feather.write_feather(pd.DataFrame(genre_seeds, columns=['genre']), 'data/genre_seeds.feather')"
   ]
  },
  {
   "cell_type": "code",
   "execution_count": 7,
   "id": "7bab202b",
   "metadata": {},
   "outputs": [
    {
     "name": "stdout",
     "output_type": "stream",
     "text": [
      "126 / 126\r"
     ]
    }
   ],
   "source": [
    "results =[]\n",
    "for idx, genre in enumerate(genre_seeds):\n",
    "    params = {\n",
    "        'seed_genres':genre,\n",
    "        'limit':100\n",
    "    }\n",
    "\n",
    "    recs = requests.get(BASE_URL + 'recommendations', params=params, headers=headers)\n",
    "    rec_tracks = recs.json()['tracks']\n",
    "    for track in rec_tracks:\n",
    "        artist = track['artists'][0]\n",
    "        name = artist['name']\n",
    "        id = artist['id']\n",
    "        result = {'artist_name':name, 'artist_id':id}\n",
    "        results.append(result)\n",
    "    print(f'{idx+1} / {len(genre_seeds)}', end='\\r')"
   ]
  },
  {
   "cell_type": "code",
   "execution_count": 8,
   "id": "3b0f6104",
   "metadata": {},
   "outputs": [],
   "source": [
    "genre_artists_df = pd.DataFrame(results)"
   ]
  },
  {
   "cell_type": "code",
   "execution_count": 9,
   "id": "d15e8e45",
   "metadata": {},
   "outputs": [],
   "source": [
    "genre_artists_df = genre_artists_df.drop_duplicates().reset_index(drop=True)"
   ]
  },
  {
   "cell_type": "code",
   "execution_count": 10,
   "id": "7f5027c0",
   "metadata": {},
   "outputs": [
    {
     "data": {
      "text/plain": [
       "0       0OdUWJ0sBjDrqHygGUXeCF\n",
       "1       1SImpQO0GbjRgvlwCcCtFo\n",
       "2       5o206eFLx38glA2bb4zqIU\n",
       "3       3gd8FJtBJtkRxdfbTu19U2\n",
       "4       53XhwfbYqKCa1cC15pYq2q\n",
       "                 ...          \n",
       "5667    5C0gCCG8N5Dh5dZytIgzLX\n",
       "5668    1N1LP4R1T5AIr33dtUB00h\n",
       "5669    64X9DGiFHjK6Xn0ebXRNwy\n",
       "5670    2rmMyZC0sUD1a3jkDxp7iY\n",
       "5671    1U5zgr455OGyIkLNXvDdrf\n",
       "Name: artist_id, Length: 5672, dtype: object"
      ]
     },
     "execution_count": 10,
     "metadata": {},
     "output_type": "execute_result"
    }
   ],
   "source": [
    "genre_artists_df.artist_id"
   ]
  },
  {
   "cell_type": "code",
   "execution_count": 11,
   "id": "8d14f4d6",
   "metadata": {},
   "outputs": [],
   "source": [
    "chunk_size = math.ceil(len(genre_artists_df) / 50)"
   ]
  },
  {
   "cell_type": "code",
   "execution_count": 12,
   "id": "e7b4aec2",
   "metadata": {},
   "outputs": [
    {
     "data": {
      "text/plain": [
       "114"
      ]
     },
     "execution_count": 12,
     "metadata": {},
     "output_type": "execute_result"
    }
   ],
   "source": [
    "chunk_size"
   ]
  },
  {
   "cell_type": "code",
   "execution_count": 13,
   "id": "f7b62fd1",
   "metadata": {},
   "outputs": [],
   "source": [
    "genre_artists_df['genres'] = float('nan')\n",
    "genre_artists_df['popularity'] = float('nan')"
   ]
  },
  {
   "cell_type": "code",
   "execution_count": 14,
   "id": "720eb050",
   "metadata": {},
   "outputs": [
    {
     "data": {
      "text/html": [
       "<div>\n",
       "<style scoped>\n",
       "    .dataframe tbody tr th:only-of-type {\n",
       "        vertical-align: middle;\n",
       "    }\n",
       "\n",
       "    .dataframe tbody tr th {\n",
       "        vertical-align: top;\n",
       "    }\n",
       "\n",
       "    .dataframe thead th {\n",
       "        text-align: right;\n",
       "    }\n",
       "</style>\n",
       "<table border=\"1\" class=\"dataframe\">\n",
       "  <thead>\n",
       "    <tr style=\"text-align: right;\">\n",
       "      <th></th>\n",
       "      <th>artist_name</th>\n",
       "      <th>artist_id</th>\n",
       "      <th>genres</th>\n",
       "      <th>popularity</th>\n",
       "    </tr>\n",
       "  </thead>\n",
       "  <tbody>\n",
       "    <tr>\n",
       "      <th>0</th>\n",
       "      <td>Band of Horses</td>\n",
       "      <td>0OdUWJ0sBjDrqHygGUXeCF</td>\n",
       "      <td>NaN</td>\n",
       "      <td>NaN</td>\n",
       "    </tr>\n",
       "    <tr>\n",
       "      <th>1</th>\n",
       "      <td>The Red Jumpsuit Apparatus</td>\n",
       "      <td>1SImpQO0GbjRgvlwCcCtFo</td>\n",
       "      <td>NaN</td>\n",
       "      <td>NaN</td>\n",
       "    </tr>\n",
       "    <tr>\n",
       "      <th>2</th>\n",
       "      <td>Bright Eyes</td>\n",
       "      <td>5o206eFLx38glA2bb4zqIU</td>\n",
       "      <td>NaN</td>\n",
       "      <td>NaN</td>\n",
       "    </tr>\n",
       "    <tr>\n",
       "      <th>3</th>\n",
       "      <td>Mumford &amp; Sons</td>\n",
       "      <td>3gd8FJtBJtkRxdfbTu19U2</td>\n",
       "      <td>NaN</td>\n",
       "      <td>NaN</td>\n",
       "    </tr>\n",
       "    <tr>\n",
       "      <th>4</th>\n",
       "      <td>Imagine Dragons</td>\n",
       "      <td>53XhwfbYqKCa1cC15pYq2q</td>\n",
       "      <td>NaN</td>\n",
       "      <td>NaN</td>\n",
       "    </tr>\n",
       "    <tr>\n",
       "      <th>...</th>\n",
       "      <td>...</td>\n",
       "      <td>...</td>\n",
       "      <td>...</td>\n",
       "      <td>...</td>\n",
       "    </tr>\n",
       "    <tr>\n",
       "      <th>5667</th>\n",
       "      <td>Os Mutantes</td>\n",
       "      <td>5C0gCCG8N5Dh5dZytIgzLX</td>\n",
       "      <td>NaN</td>\n",
       "      <td>NaN</td>\n",
       "    </tr>\n",
       "    <tr>\n",
       "      <th>5668</th>\n",
       "      <td>Aurelio</td>\n",
       "      <td>1N1LP4R1T5AIr33dtUB00h</td>\n",
       "      <td>NaN</td>\n",
       "      <td>NaN</td>\n",
       "    </tr>\n",
       "    <tr>\n",
       "      <th>5669</th>\n",
       "      <td>Khadja Nin</td>\n",
       "      <td>64X9DGiFHjK6Xn0ebXRNwy</td>\n",
       "      <td>NaN</td>\n",
       "      <td>NaN</td>\n",
       "    </tr>\n",
       "    <tr>\n",
       "      <th>5670</th>\n",
       "      <td>Balkan Beat Box</td>\n",
       "      <td>2rmMyZC0sUD1a3jkDxp7iY</td>\n",
       "      <td>NaN</td>\n",
       "      <td>NaN</td>\n",
       "    </tr>\n",
       "    <tr>\n",
       "      <th>5671</th>\n",
       "      <td>Traditional</td>\n",
       "      <td>1U5zgr455OGyIkLNXvDdrf</td>\n",
       "      <td>NaN</td>\n",
       "      <td>NaN</td>\n",
       "    </tr>\n",
       "  </tbody>\n",
       "</table>\n",
       "<p>5672 rows × 4 columns</p>\n",
       "</div>"
      ],
      "text/plain": [
       "                     artist_name               artist_id  genres  popularity\n",
       "0                 Band of Horses  0OdUWJ0sBjDrqHygGUXeCF     NaN         NaN\n",
       "1     The Red Jumpsuit Apparatus  1SImpQO0GbjRgvlwCcCtFo     NaN         NaN\n",
       "2                    Bright Eyes  5o206eFLx38glA2bb4zqIU     NaN         NaN\n",
       "3                 Mumford & Sons  3gd8FJtBJtkRxdfbTu19U2     NaN         NaN\n",
       "4                Imagine Dragons  53XhwfbYqKCa1cC15pYq2q     NaN         NaN\n",
       "...                          ...                     ...     ...         ...\n",
       "5667                 Os Mutantes  5C0gCCG8N5Dh5dZytIgzLX     NaN         NaN\n",
       "5668                     Aurelio  1N1LP4R1T5AIr33dtUB00h     NaN         NaN\n",
       "5669                  Khadja Nin  64X9DGiFHjK6Xn0ebXRNwy     NaN         NaN\n",
       "5670             Balkan Beat Box  2rmMyZC0sUD1a3jkDxp7iY     NaN         NaN\n",
       "5671                 Traditional  1U5zgr455OGyIkLNXvDdrf     NaN         NaN\n",
       "\n",
       "[5672 rows x 4 columns]"
      ]
     },
     "execution_count": 14,
     "metadata": {},
     "output_type": "execute_result"
    }
   ],
   "source": [
    "genre_artists_df"
   ]
  },
  {
   "cell_type": "code",
   "execution_count": 15,
   "id": "984cad40",
   "metadata": {},
   "outputs": [
    {
     "name": "stdout",
     "output_type": "stream",
     "text": [
      "5672 / 5672\r"
     ]
    }
   ],
   "source": [
    "genre_artists_full_results = []\n",
    "for artists in np.array_split(genre_artists_df, chunk_size):\n",
    "    params = {'ids' : ','.join(list(artists.artist_id))}\n",
    "    several_artists = requests.get(BASE_URL+'artists/', params=params, headers=headers)\n",
    "    for i in artists.index:\n",
    "        j = i - artists.index[0]\n",
    "        result = {\n",
    "            'artist_name': genre_artists_df.loc[i, 'artist_name'],\n",
    "            'artist_id': genre_artists_df.loc[i, 'artist_id'],\n",
    "            'genres': several_artists.json()['artists'][j]['genres'],\n",
    "            'popularity': several_artists.json()['artists'][j]['popularity']\n",
    "        }\n",
    "        genre_artists_full_results.append(result)\n",
    "        print(f'{i+1} / {len(genre_artists_df)}', end= '\\r')\n",
    "        \n",
    "genre_artists_df = pd.DataFrame(genre_artists_full_results)"
   ]
  },
  {
   "cell_type": "code",
   "execution_count": 16,
   "id": "4f2ba734",
   "metadata": {},
   "outputs": [
    {
     "data": {
      "text/html": [
       "<div>\n",
       "<style scoped>\n",
       "    .dataframe tbody tr th:only-of-type {\n",
       "        vertical-align: middle;\n",
       "    }\n",
       "\n",
       "    .dataframe tbody tr th {\n",
       "        vertical-align: top;\n",
       "    }\n",
       "\n",
       "    .dataframe thead th {\n",
       "        text-align: right;\n",
       "    }\n",
       "</style>\n",
       "<table border=\"1\" class=\"dataframe\">\n",
       "  <thead>\n",
       "    <tr style=\"text-align: right;\">\n",
       "      <th></th>\n",
       "      <th>artist_name</th>\n",
       "      <th>artist_id</th>\n",
       "      <th>genres</th>\n",
       "      <th>popularity</th>\n",
       "    </tr>\n",
       "  </thead>\n",
       "  <tbody>\n",
       "    <tr>\n",
       "      <th>0</th>\n",
       "      <td>Band of Horses</td>\n",
       "      <td>0OdUWJ0sBjDrqHygGUXeCF</td>\n",
       "      <td>[chamber pop, indie folk, indie rock, indietro...</td>\n",
       "      <td>59</td>\n",
       "    </tr>\n",
       "    <tr>\n",
       "      <th>1</th>\n",
       "      <td>The Red Jumpsuit Apparatus</td>\n",
       "      <td>1SImpQO0GbjRgvlwCcCtFo</td>\n",
       "      <td>[alternative metal, neon pop punk, pop punk, p...</td>\n",
       "      <td>63</td>\n",
       "    </tr>\n",
       "    <tr>\n",
       "      <th>2</th>\n",
       "      <td>Bright Eyes</td>\n",
       "      <td>5o206eFLx38glA2bb4zqIU</td>\n",
       "      <td>[chamber pop, indie rock, melancholia, omaha i...</td>\n",
       "      <td>55</td>\n",
       "    </tr>\n",
       "    <tr>\n",
       "      <th>3</th>\n",
       "      <td>Mumford &amp; Sons</td>\n",
       "      <td>3gd8FJtBJtkRxdfbTu19U2</td>\n",
       "      <td>[modern folk rock, modern rock, neo mellow, st...</td>\n",
       "      <td>72</td>\n",
       "    </tr>\n",
       "    <tr>\n",
       "      <th>4</th>\n",
       "      <td>Imagine Dragons</td>\n",
       "      <td>53XhwfbYqKCa1cC15pYq2q</td>\n",
       "      <td>[modern rock, pop, rock]</td>\n",
       "      <td>86</td>\n",
       "    </tr>\n",
       "    <tr>\n",
       "      <th>...</th>\n",
       "      <td>...</td>\n",
       "      <td>...</td>\n",
       "      <td>...</td>\n",
       "      <td>...</td>\n",
       "    </tr>\n",
       "    <tr>\n",
       "      <th>5667</th>\n",
       "      <td>Os Mutantes</td>\n",
       "      <td>5C0gCCG8N5Dh5dZytIgzLX</td>\n",
       "      <td>[bossa nova, mpb, psicodelia brasileira, psych...</td>\n",
       "      <td>44</td>\n",
       "    </tr>\n",
       "    <tr>\n",
       "      <th>5668</th>\n",
       "      <td>Aurelio</td>\n",
       "      <td>1N1LP4R1T5AIr33dtUB00h</td>\n",
       "      <td>[garifuna folk, punta]</td>\n",
       "      <td>18</td>\n",
       "    </tr>\n",
       "    <tr>\n",
       "      <th>5669</th>\n",
       "      <td>Khadja Nin</td>\n",
       "      <td>64X9DGiFHjK6Xn0ebXRNwy</td>\n",
       "      <td>[burundian pop]</td>\n",
       "      <td>29</td>\n",
       "    </tr>\n",
       "    <tr>\n",
       "      <th>5670</th>\n",
       "      <td>Balkan Beat Box</td>\n",
       "      <td>2rmMyZC0sUD1a3jkDxp7iY</td>\n",
       "      <td>[balkan beats, balkan brass, gypsy fusion, gyp...</td>\n",
       "      <td>37</td>\n",
       "    </tr>\n",
       "    <tr>\n",
       "      <th>5671</th>\n",
       "      <td>Traditional</td>\n",
       "      <td>1U5zgr455OGyIkLNXvDdrf</td>\n",
       "      <td>[gregorian chant, hengelliset laulut, puirt-a-...</td>\n",
       "      <td>61</td>\n",
       "    </tr>\n",
       "  </tbody>\n",
       "</table>\n",
       "<p>5672 rows × 4 columns</p>\n",
       "</div>"
      ],
      "text/plain": [
       "                     artist_name               artist_id  \\\n",
       "0                 Band of Horses  0OdUWJ0sBjDrqHygGUXeCF   \n",
       "1     The Red Jumpsuit Apparatus  1SImpQO0GbjRgvlwCcCtFo   \n",
       "2                    Bright Eyes  5o206eFLx38glA2bb4zqIU   \n",
       "3                 Mumford & Sons  3gd8FJtBJtkRxdfbTu19U2   \n",
       "4                Imagine Dragons  53XhwfbYqKCa1cC15pYq2q   \n",
       "...                          ...                     ...   \n",
       "5667                 Os Mutantes  5C0gCCG8N5Dh5dZytIgzLX   \n",
       "5668                     Aurelio  1N1LP4R1T5AIr33dtUB00h   \n",
       "5669                  Khadja Nin  64X9DGiFHjK6Xn0ebXRNwy   \n",
       "5670             Balkan Beat Box  2rmMyZC0sUD1a3jkDxp7iY   \n",
       "5671                 Traditional  1U5zgr455OGyIkLNXvDdrf   \n",
       "\n",
       "                                                 genres  popularity  \n",
       "0     [chamber pop, indie folk, indie rock, indietro...          59  \n",
       "1     [alternative metal, neon pop punk, pop punk, p...          63  \n",
       "2     [chamber pop, indie rock, melancholia, omaha i...          55  \n",
       "3     [modern folk rock, modern rock, neo mellow, st...          72  \n",
       "4                              [modern rock, pop, rock]          86  \n",
       "...                                                 ...         ...  \n",
       "5667  [bossa nova, mpb, psicodelia brasileira, psych...          44  \n",
       "5668                             [garifuna folk, punta]          18  \n",
       "5669                                    [burundian pop]          29  \n",
       "5670  [balkan beats, balkan brass, gypsy fusion, gyp...          37  \n",
       "5671  [gregorian chant, hengelliset laulut, puirt-a-...          61  \n",
       "\n",
       "[5672 rows x 4 columns]"
      ]
     },
     "execution_count": 16,
     "metadata": {},
     "output_type": "execute_result"
    }
   ],
   "source": [
    "genre_artists_df"
   ]
  },
  {
   "cell_type": "code",
   "execution_count": 17,
   "id": "71d61f26",
   "metadata": {},
   "outputs": [],
   "source": [
    "related_dfs = [genre_artists_df]"
   ]
  },
  {
   "cell_type": "code",
   "execution_count": null,
   "id": "e24971ea",
   "metadata": {},
   "outputs": [],
   "source": [
    "# Define the maximum number of related artists to fetch per artist\n",
    "MAX_RELATED_ARTISTS = 1  # Adjust this number as needed\n",
    "\n",
    "\n",
    "    new_artists = []\n",
    "    for idx, artist in related_dfs[i-1].iterrows():\n",
    "        related = requests.get(BASE_URL + f'artists/{artist.artist_id}/related-artists', headers=headers,timeout=10)\n",
    "        while not related.ok:\n",
    "            if related.status_code == 401:\n",
    "                headers = authenticate_token()\n",
    "            elif related.status_code == 429:\n",
    "                time.sleep(30)\n",
    "            else:\n",
    "                break\n",
    "            related = requests.get(BASE_URL + f'artists/{artist.artist_id}/related-artists', headers=headers,timeout=10)\n",
    "        \n",
    "        # Fetch only a limited number of related artists per artist\n",
    "        if related.ok:\n",
    "            for new_artist in related.json().get('artists', [])[:MAX_RELATED_ARTISTS]:\n",
    "                new_row = {\n",
    "                    'artist_name': new_artist['name'],\n",
    "                    'artist_id': new_artist['id'],\n",
    "                    'genres': new_artist['genres'],\n",
    "                    'popularity': new_artist['popularity']\n",
    "                }\n",
    "                new_artists.append(new_row)\n",
    "        print(f'{idx+1} / {len(related_dfs[i-1])}', end='\\r')\n",
    "    \n",
    "    print('\\n')\n",
    "    related_dfs.append(pd.DataFrame(new_artists))\n",
    "    related_dfs[i] = related_dfs[i].drop_duplicates(subset=['artist_id'])\n"
   ]
  },
  {
   "cell_type": "code",
   "execution_count": 18,
   "id": "52cddc2b",
   "metadata": {},
   "outputs": [],
   "source": [
    "all_artists = pd.concat([df for df in related_dfs])"
   ]
  },
  {
   "cell_type": "code",
   "execution_count": 19,
   "id": "8d361ff3",
   "metadata": {},
   "outputs": [],
   "source": [
    "all_artists = all_artists.drop_duplicates(subset=['artist_id']).reset_index(drop=True)"
   ]
  },
  {
   "cell_type": "code",
   "execution_count": 20,
   "id": "d6ff159c",
   "metadata": {},
   "outputs": [],
   "source": [
    "all_tracks = []"
   ]
  },
  {
   "cell_type": "code",
   "execution_count": 25,
   "id": "0ed7df23",
   "metadata": {},
   "outputs": [
    {
     "name": "stdout",
     "output_type": "stream",
     "text": [
      "3940 / 5671\r"
     ]
    },
    {
     "ename": "JSONDecodeError",
     "evalue": "Expecting value: line 1 column 1 (char 0)",
     "output_type": "error",
     "traceback": [
      "\u001b[1;31m---------------------------------------------------------------------------\u001b[0m",
      "\u001b[1;31mJSONDecodeError\u001b[0m                           Traceback (most recent call last)",
      "Input \u001b[1;32mIn [25]\u001b[0m, in \u001b[0;36m<cell line: 1>\u001b[1;34m()\u001b[0m\n\u001b[0;32m      1\u001b[0m \u001b[38;5;28;01mfor\u001b[39;00m idx, artist \u001b[38;5;129;01min\u001b[39;00m all_artists\u001b[38;5;241m.\u001b[39miterrows():\n\u001b[0;32m      2\u001b[0m     top_tracks \u001b[38;5;241m=\u001b[39m requests\u001b[38;5;241m.\u001b[39mget(BASE_URL\u001b[38;5;241m+\u001b[39m\u001b[38;5;124m'\u001b[39m\u001b[38;5;124martists/\u001b[39m\u001b[38;5;124m'\u001b[39m\u001b[38;5;241m+\u001b[39martist\u001b[38;5;241m.\u001b[39martist_id\u001b[38;5;241m+\u001b[39m\u001b[38;5;124m'\u001b[39m\u001b[38;5;124m/top-tracks?market=US\u001b[39m\u001b[38;5;124m'\u001b[39m, headers\u001b[38;5;241m=\u001b[39mheaders,timeout\u001b[38;5;241m=\u001b[39m\u001b[38;5;241m10\u001b[39m)\n\u001b[1;32m----> 3\u001b[0m     \u001b[38;5;28;01mfor\u001b[39;00m track \u001b[38;5;129;01min\u001b[39;00m \u001b[43mtop_tracks\u001b[49m\u001b[38;5;241;43m.\u001b[39;49m\u001b[43mjson\u001b[49m\u001b[43m(\u001b[49m\u001b[43m)\u001b[49m[\u001b[38;5;124m'\u001b[39m\u001b[38;5;124mtracks\u001b[39m\u001b[38;5;124m'\u001b[39m]:\n\u001b[0;32m      4\u001b[0m         track_info \u001b[38;5;241m=\u001b[39m {\n\u001b[0;32m      5\u001b[0m             \u001b[38;5;124m'\u001b[39m\u001b[38;5;124mtrack_id\u001b[39m\u001b[38;5;124m'\u001b[39m: track[\u001b[38;5;124m'\u001b[39m\u001b[38;5;124mid\u001b[39m\u001b[38;5;124m'\u001b[39m],\n\u001b[0;32m      6\u001b[0m             \u001b[38;5;124m'\u001b[39m\u001b[38;5;124mtrack_name\u001b[39m\u001b[38;5;124m'\u001b[39m: track[\u001b[38;5;124m'\u001b[39m\u001b[38;5;124mname\u001b[39m\u001b[38;5;124m'\u001b[39m],\n\u001b[1;32m   (...)\u001b[0m\n\u001b[0;32m     14\u001b[0m             \u001b[38;5;124m'\u001b[39m\u001b[38;5;124martist_popularity\u001b[39m\u001b[38;5;124m'\u001b[39m: artist\u001b[38;5;241m.\u001b[39mpopularity\n\u001b[0;32m     15\u001b[0m         }\n\u001b[0;32m     16\u001b[0m         all_tracks\u001b[38;5;241m.\u001b[39mappend(track_info)\n",
      "File \u001b[1;32m~\\anaconda3\\lib\\site-packages\\requests\\models.py:899\u001b[0m, in \u001b[0;36mResponse.json\u001b[1;34m(self, **kwargs)\u001b[0m\n\u001b[0;32m    897\u001b[0m \u001b[38;5;28;01mif\u001b[39;00m encoding \u001b[38;5;129;01mis\u001b[39;00m \u001b[38;5;129;01mnot\u001b[39;00m \u001b[38;5;28;01mNone\u001b[39;00m:\n\u001b[0;32m    898\u001b[0m     \u001b[38;5;28;01mtry\u001b[39;00m:\n\u001b[1;32m--> 899\u001b[0m         \u001b[38;5;28;01mreturn\u001b[39;00m complexjson\u001b[38;5;241m.\u001b[39mloads(\n\u001b[0;32m    900\u001b[0m             \u001b[38;5;28mself\u001b[39m\u001b[38;5;241m.\u001b[39mcontent\u001b[38;5;241m.\u001b[39mdecode(encoding), \u001b[38;5;241m*\u001b[39m\u001b[38;5;241m*\u001b[39mkwargs\n\u001b[0;32m    901\u001b[0m         )\n\u001b[0;32m    902\u001b[0m     \u001b[38;5;28;01mexcept\u001b[39;00m \u001b[38;5;167;01mUnicodeDecodeError\u001b[39;00m:\n\u001b[0;32m    903\u001b[0m         \u001b[38;5;66;03m# Wrong UTF codec detected; usually because it's not UTF-8\u001b[39;00m\n\u001b[0;32m    904\u001b[0m         \u001b[38;5;66;03m# but some other 8-bit codec.  This is an RFC violation,\u001b[39;00m\n\u001b[0;32m    905\u001b[0m         \u001b[38;5;66;03m# and the server didn't bother to tell us what codec *was*\u001b[39;00m\n\u001b[0;32m    906\u001b[0m         \u001b[38;5;66;03m# used.\u001b[39;00m\n\u001b[0;32m    907\u001b[0m         \u001b[38;5;28;01mpass\u001b[39;00m\n",
      "File \u001b[1;32m~\\anaconda3\\lib\\json\\__init__.py:346\u001b[0m, in \u001b[0;36mloads\u001b[1;34m(s, cls, object_hook, parse_float, parse_int, parse_constant, object_pairs_hook, **kw)\u001b[0m\n\u001b[0;32m    341\u001b[0m     s \u001b[38;5;241m=\u001b[39m s\u001b[38;5;241m.\u001b[39mdecode(detect_encoding(s), \u001b[38;5;124m'\u001b[39m\u001b[38;5;124msurrogatepass\u001b[39m\u001b[38;5;124m'\u001b[39m)\n\u001b[0;32m    343\u001b[0m \u001b[38;5;28;01mif\u001b[39;00m (\u001b[38;5;28mcls\u001b[39m \u001b[38;5;129;01mis\u001b[39;00m \u001b[38;5;28;01mNone\u001b[39;00m \u001b[38;5;129;01mand\u001b[39;00m object_hook \u001b[38;5;129;01mis\u001b[39;00m \u001b[38;5;28;01mNone\u001b[39;00m \u001b[38;5;129;01mand\u001b[39;00m\n\u001b[0;32m    344\u001b[0m         parse_int \u001b[38;5;129;01mis\u001b[39;00m \u001b[38;5;28;01mNone\u001b[39;00m \u001b[38;5;129;01mand\u001b[39;00m parse_float \u001b[38;5;129;01mis\u001b[39;00m \u001b[38;5;28;01mNone\u001b[39;00m \u001b[38;5;129;01mand\u001b[39;00m\n\u001b[0;32m    345\u001b[0m         parse_constant \u001b[38;5;129;01mis\u001b[39;00m \u001b[38;5;28;01mNone\u001b[39;00m \u001b[38;5;129;01mand\u001b[39;00m object_pairs_hook \u001b[38;5;129;01mis\u001b[39;00m \u001b[38;5;28;01mNone\u001b[39;00m \u001b[38;5;129;01mand\u001b[39;00m \u001b[38;5;129;01mnot\u001b[39;00m kw):\n\u001b[1;32m--> 346\u001b[0m     \u001b[38;5;28;01mreturn\u001b[39;00m \u001b[43m_default_decoder\u001b[49m\u001b[38;5;241;43m.\u001b[39;49m\u001b[43mdecode\u001b[49m\u001b[43m(\u001b[49m\u001b[43ms\u001b[49m\u001b[43m)\u001b[49m\n\u001b[0;32m    347\u001b[0m \u001b[38;5;28;01mif\u001b[39;00m \u001b[38;5;28mcls\u001b[39m \u001b[38;5;129;01mis\u001b[39;00m \u001b[38;5;28;01mNone\u001b[39;00m:\n\u001b[0;32m    348\u001b[0m     \u001b[38;5;28mcls\u001b[39m \u001b[38;5;241m=\u001b[39m JSONDecoder\n",
      "File \u001b[1;32m~\\anaconda3\\lib\\json\\decoder.py:337\u001b[0m, in \u001b[0;36mJSONDecoder.decode\u001b[1;34m(self, s, _w)\u001b[0m\n\u001b[0;32m    332\u001b[0m \u001b[38;5;28;01mdef\u001b[39;00m \u001b[38;5;21mdecode\u001b[39m(\u001b[38;5;28mself\u001b[39m, s, _w\u001b[38;5;241m=\u001b[39mWHITESPACE\u001b[38;5;241m.\u001b[39mmatch):\n\u001b[0;32m    333\u001b[0m     \u001b[38;5;124;03m\"\"\"Return the Python representation of ``s`` (a ``str`` instance\u001b[39;00m\n\u001b[0;32m    334\u001b[0m \u001b[38;5;124;03m    containing a JSON document).\u001b[39;00m\n\u001b[0;32m    335\u001b[0m \n\u001b[0;32m    336\u001b[0m \u001b[38;5;124;03m    \"\"\"\u001b[39;00m\n\u001b[1;32m--> 337\u001b[0m     obj, end \u001b[38;5;241m=\u001b[39m \u001b[38;5;28;43mself\u001b[39;49m\u001b[38;5;241;43m.\u001b[39;49m\u001b[43mraw_decode\u001b[49m\u001b[43m(\u001b[49m\u001b[43ms\u001b[49m\u001b[43m,\u001b[49m\u001b[43m \u001b[49m\u001b[43midx\u001b[49m\u001b[38;5;241;43m=\u001b[39;49m\u001b[43m_w\u001b[49m\u001b[43m(\u001b[49m\u001b[43ms\u001b[49m\u001b[43m,\u001b[49m\u001b[43m \u001b[49m\u001b[38;5;241;43m0\u001b[39;49m\u001b[43m)\u001b[49m\u001b[38;5;241;43m.\u001b[39;49m\u001b[43mend\u001b[49m\u001b[43m(\u001b[49m\u001b[43m)\u001b[49m\u001b[43m)\u001b[49m\n\u001b[0;32m    338\u001b[0m     end \u001b[38;5;241m=\u001b[39m _w(s, end)\u001b[38;5;241m.\u001b[39mend()\n\u001b[0;32m    339\u001b[0m     \u001b[38;5;28;01mif\u001b[39;00m end \u001b[38;5;241m!=\u001b[39m \u001b[38;5;28mlen\u001b[39m(s):\n",
      "File \u001b[1;32m~\\anaconda3\\lib\\json\\decoder.py:355\u001b[0m, in \u001b[0;36mJSONDecoder.raw_decode\u001b[1;34m(self, s, idx)\u001b[0m\n\u001b[0;32m    353\u001b[0m     obj, end \u001b[38;5;241m=\u001b[39m \u001b[38;5;28mself\u001b[39m\u001b[38;5;241m.\u001b[39mscan_once(s, idx)\n\u001b[0;32m    354\u001b[0m \u001b[38;5;28;01mexcept\u001b[39;00m \u001b[38;5;167;01mStopIteration\u001b[39;00m \u001b[38;5;28;01mas\u001b[39;00m err:\n\u001b[1;32m--> 355\u001b[0m     \u001b[38;5;28;01mraise\u001b[39;00m JSONDecodeError(\u001b[38;5;124m\"\u001b[39m\u001b[38;5;124mExpecting value\u001b[39m\u001b[38;5;124m\"\u001b[39m, s, err\u001b[38;5;241m.\u001b[39mvalue) \u001b[38;5;28;01mfrom\u001b[39;00m \u001b[38;5;28mNone\u001b[39m\n\u001b[0;32m    356\u001b[0m \u001b[38;5;28;01mreturn\u001b[39;00m obj, end\n",
      "\u001b[1;31mJSONDecodeError\u001b[0m: Expecting value: line 1 column 1 (char 0)"
     ]
    }
   ],
   "source": [
    "for idx, artist in all_artists.iterrows():\n",
    "    top_tracks = requests.get(BASE_URL+'artists/'+artist.artist_id+'/top-tracks?market=US', headers=headers,timeout=10)\n",
    "    for track in top_tracks.json()['tracks']:\n",
    "        track_info = {\n",
    "            'track_id': track['id'],\n",
    "            'track_name': track['name'],\n",
    "            'track_preview_link': track['preview_url'],\n",
    "            'track_popularity': track['popularity'],\n",
    "            'track_uri': track['uri'],\n",
    "            'release_date':track['album']['release_date'],\n",
    "            'artist_name': artist.artist_name,\n",
    "            'artist_id': artist.artist_id,\n",
    "            'artist_genres': artist.genres,\n",
    "            'artist_popularity': artist.popularity\n",
    "        }\n",
    "        all_tracks.append(track_info)\n",
    "    print(f'{idx+1} / {len(all_artists)}', end='\\r')\n",
    "all_tracks_df = pd.DataFrame(all_tracks)"
   ]
  },
  {
   "cell_type": "code",
   "execution_count": 29,
   "id": "15cf6d4d",
   "metadata": {},
   "outputs": [
    {
     "ename": "NameError",
     "evalue": "name 'track_chunk_size' is not defined",
     "output_type": "error",
     "traceback": [
      "\u001b[1;31m---------------------------------------------------------------------------\u001b[0m",
      "\u001b[1;31mNameError\u001b[0m                                 Traceback (most recent call last)",
      "Input \u001b[1;32mIn [29]\u001b[0m, in \u001b[0;36m<cell line: 2>\u001b[1;34m()\u001b[0m\n\u001b[0;32m      1\u001b[0m all_tracks_df \u001b[38;5;241m=\u001b[39m pd\u001b[38;5;241m.\u001b[39mDataFrame(all_tracks)\n\u001b[1;32m----> 2\u001b[0m \u001b[43mtrack_chunk_size\u001b[49m\n",
      "\u001b[1;31mNameError\u001b[0m: name 'track_chunk_size' is not defined"
     ]
    }
   ],
   "source": [
    "track_chunk_size"
   ]
  },
  {
   "cell_type": "code",
   "execution_count": 30,
   "id": "9d91e034",
   "metadata": {
    "scrolled": true
   },
   "outputs": [
    {
     "ename": "JSONDecodeError",
     "evalue": "Expecting value: line 1 column 1 (char 0)",
     "output_type": "error",
     "traceback": [
      "\u001b[1;31m---------------------------------------------------------------------------\u001b[0m",
      "\u001b[1;31mJSONDecodeError\u001b[0m                           Traceback (most recent call last)",
      "Input \u001b[1;32mIn [30]\u001b[0m, in \u001b[0;36m<cell line: 5>\u001b[1;34m()\u001b[0m\n\u001b[0;32m      9\u001b[0m \u001b[38;5;28;01mfor\u001b[39;00m i \u001b[38;5;129;01min\u001b[39;00m tracks\u001b[38;5;241m.\u001b[39mindex:\n\u001b[0;32m     10\u001b[0m     j \u001b[38;5;241m=\u001b[39m i \u001b[38;5;241m-\u001b[39m tracks\u001b[38;5;241m.\u001b[39mindex[\u001b[38;5;241m0\u001b[39m]\n\u001b[0;32m     11\u001b[0m     result \u001b[38;5;241m=\u001b[39m {\n\u001b[1;32m---> 12\u001b[0m         \u001b[38;5;124m'\u001b[39m\u001b[38;5;124mtrack_id\u001b[39m\u001b[38;5;124m'\u001b[39m: \u001b[43mseveral_tracks\u001b[49m\u001b[38;5;241;43m.\u001b[39;49m\u001b[43mjson\u001b[49m\u001b[43m(\u001b[49m\u001b[43m)\u001b[49m[\u001b[38;5;124m'\u001b[39m\u001b[38;5;124mtracks\u001b[39m\u001b[38;5;124m'\u001b[39m][j][\u001b[38;5;124m'\u001b[39m\u001b[38;5;124mid\u001b[39m\u001b[38;5;124m'\u001b[39m],\n\u001b[0;32m     13\u001b[0m         \u001b[38;5;124m'\u001b[39m\u001b[38;5;124mrelease_date\u001b[39m\u001b[38;5;124m'\u001b[39m: several_tracks\u001b[38;5;241m.\u001b[39mjson()[\u001b[38;5;124m'\u001b[39m\u001b[38;5;124mtracks\u001b[39m\u001b[38;5;124m'\u001b[39m][j][\u001b[38;5;124m'\u001b[39m\u001b[38;5;124malbum\u001b[39m\u001b[38;5;124m'\u001b[39m][\u001b[38;5;124m'\u001b[39m\u001b[38;5;124mrelease_date\u001b[39m\u001b[38;5;124m'\u001b[39m]\n\u001b[0;32m     14\u001b[0m     }\n\u001b[0;32m     15\u001b[0m     release_dates\u001b[38;5;241m.\u001b[39mappend(result)\n\u001b[0;32m     16\u001b[0m     \u001b[38;5;28mprint\u001b[39m(\u001b[38;5;124mf\u001b[39m\u001b[38;5;124m'\u001b[39m\u001b[38;5;132;01m{\u001b[39;00mi\u001b[38;5;241m+\u001b[39m\u001b[38;5;241m1\u001b[39m\u001b[38;5;132;01m}\u001b[39;00m\u001b[38;5;124m / \u001b[39m\u001b[38;5;132;01m{\u001b[39;00m\u001b[38;5;28mlen\u001b[39m(all_tracks_df)\u001b[38;5;132;01m}\u001b[39;00m\u001b[38;5;124m'\u001b[39m, end\u001b[38;5;241m=\u001b[39m \u001b[38;5;124m'\u001b[39m\u001b[38;5;130;01m\\r\u001b[39;00m\u001b[38;5;124m'\u001b[39m)\n",
      "File \u001b[1;32m~\\anaconda3\\lib\\site-packages\\requests\\models.py:899\u001b[0m, in \u001b[0;36mResponse.json\u001b[1;34m(self, **kwargs)\u001b[0m\n\u001b[0;32m    897\u001b[0m \u001b[38;5;28;01mif\u001b[39;00m encoding \u001b[38;5;129;01mis\u001b[39;00m \u001b[38;5;129;01mnot\u001b[39;00m \u001b[38;5;28;01mNone\u001b[39;00m:\n\u001b[0;32m    898\u001b[0m     \u001b[38;5;28;01mtry\u001b[39;00m:\n\u001b[1;32m--> 899\u001b[0m         \u001b[38;5;28;01mreturn\u001b[39;00m complexjson\u001b[38;5;241m.\u001b[39mloads(\n\u001b[0;32m    900\u001b[0m             \u001b[38;5;28mself\u001b[39m\u001b[38;5;241m.\u001b[39mcontent\u001b[38;5;241m.\u001b[39mdecode(encoding), \u001b[38;5;241m*\u001b[39m\u001b[38;5;241m*\u001b[39mkwargs\n\u001b[0;32m    901\u001b[0m         )\n\u001b[0;32m    902\u001b[0m     \u001b[38;5;28;01mexcept\u001b[39;00m \u001b[38;5;167;01mUnicodeDecodeError\u001b[39;00m:\n\u001b[0;32m    903\u001b[0m         \u001b[38;5;66;03m# Wrong UTF codec detected; usually because it's not UTF-8\u001b[39;00m\n\u001b[0;32m    904\u001b[0m         \u001b[38;5;66;03m# but some other 8-bit codec.  This is an RFC violation,\u001b[39;00m\n\u001b[0;32m    905\u001b[0m         \u001b[38;5;66;03m# and the server didn't bother to tell us what codec *was*\u001b[39;00m\n\u001b[0;32m    906\u001b[0m         \u001b[38;5;66;03m# used.\u001b[39;00m\n\u001b[0;32m    907\u001b[0m         \u001b[38;5;28;01mpass\u001b[39;00m\n",
      "File \u001b[1;32m~\\anaconda3\\lib\\json\\__init__.py:346\u001b[0m, in \u001b[0;36mloads\u001b[1;34m(s, cls, object_hook, parse_float, parse_int, parse_constant, object_pairs_hook, **kw)\u001b[0m\n\u001b[0;32m    341\u001b[0m     s \u001b[38;5;241m=\u001b[39m s\u001b[38;5;241m.\u001b[39mdecode(detect_encoding(s), \u001b[38;5;124m'\u001b[39m\u001b[38;5;124msurrogatepass\u001b[39m\u001b[38;5;124m'\u001b[39m)\n\u001b[0;32m    343\u001b[0m \u001b[38;5;28;01mif\u001b[39;00m (\u001b[38;5;28mcls\u001b[39m \u001b[38;5;129;01mis\u001b[39;00m \u001b[38;5;28;01mNone\u001b[39;00m \u001b[38;5;129;01mand\u001b[39;00m object_hook \u001b[38;5;129;01mis\u001b[39;00m \u001b[38;5;28;01mNone\u001b[39;00m \u001b[38;5;129;01mand\u001b[39;00m\n\u001b[0;32m    344\u001b[0m         parse_int \u001b[38;5;129;01mis\u001b[39;00m \u001b[38;5;28;01mNone\u001b[39;00m \u001b[38;5;129;01mand\u001b[39;00m parse_float \u001b[38;5;129;01mis\u001b[39;00m \u001b[38;5;28;01mNone\u001b[39;00m \u001b[38;5;129;01mand\u001b[39;00m\n\u001b[0;32m    345\u001b[0m         parse_constant \u001b[38;5;129;01mis\u001b[39;00m \u001b[38;5;28;01mNone\u001b[39;00m \u001b[38;5;129;01mand\u001b[39;00m object_pairs_hook \u001b[38;5;129;01mis\u001b[39;00m \u001b[38;5;28;01mNone\u001b[39;00m \u001b[38;5;129;01mand\u001b[39;00m \u001b[38;5;129;01mnot\u001b[39;00m kw):\n\u001b[1;32m--> 346\u001b[0m     \u001b[38;5;28;01mreturn\u001b[39;00m \u001b[43m_default_decoder\u001b[49m\u001b[38;5;241;43m.\u001b[39;49m\u001b[43mdecode\u001b[49m\u001b[43m(\u001b[49m\u001b[43ms\u001b[49m\u001b[43m)\u001b[49m\n\u001b[0;32m    347\u001b[0m \u001b[38;5;28;01mif\u001b[39;00m \u001b[38;5;28mcls\u001b[39m \u001b[38;5;129;01mis\u001b[39;00m \u001b[38;5;28;01mNone\u001b[39;00m:\n\u001b[0;32m    348\u001b[0m     \u001b[38;5;28mcls\u001b[39m \u001b[38;5;241m=\u001b[39m JSONDecoder\n",
      "File \u001b[1;32m~\\anaconda3\\lib\\json\\decoder.py:337\u001b[0m, in \u001b[0;36mJSONDecoder.decode\u001b[1;34m(self, s, _w)\u001b[0m\n\u001b[0;32m    332\u001b[0m \u001b[38;5;28;01mdef\u001b[39;00m \u001b[38;5;21mdecode\u001b[39m(\u001b[38;5;28mself\u001b[39m, s, _w\u001b[38;5;241m=\u001b[39mWHITESPACE\u001b[38;5;241m.\u001b[39mmatch):\n\u001b[0;32m    333\u001b[0m     \u001b[38;5;124;03m\"\"\"Return the Python representation of ``s`` (a ``str`` instance\u001b[39;00m\n\u001b[0;32m    334\u001b[0m \u001b[38;5;124;03m    containing a JSON document).\u001b[39;00m\n\u001b[0;32m    335\u001b[0m \n\u001b[0;32m    336\u001b[0m \u001b[38;5;124;03m    \"\"\"\u001b[39;00m\n\u001b[1;32m--> 337\u001b[0m     obj, end \u001b[38;5;241m=\u001b[39m \u001b[38;5;28;43mself\u001b[39;49m\u001b[38;5;241;43m.\u001b[39;49m\u001b[43mraw_decode\u001b[49m\u001b[43m(\u001b[49m\u001b[43ms\u001b[49m\u001b[43m,\u001b[49m\u001b[43m \u001b[49m\u001b[43midx\u001b[49m\u001b[38;5;241;43m=\u001b[39;49m\u001b[43m_w\u001b[49m\u001b[43m(\u001b[49m\u001b[43ms\u001b[49m\u001b[43m,\u001b[49m\u001b[43m \u001b[49m\u001b[38;5;241;43m0\u001b[39;49m\u001b[43m)\u001b[49m\u001b[38;5;241;43m.\u001b[39;49m\u001b[43mend\u001b[49m\u001b[43m(\u001b[49m\u001b[43m)\u001b[49m\u001b[43m)\u001b[49m\n\u001b[0;32m    338\u001b[0m     end \u001b[38;5;241m=\u001b[39m _w(s, end)\u001b[38;5;241m.\u001b[39mend()\n\u001b[0;32m    339\u001b[0m     \u001b[38;5;28;01mif\u001b[39;00m end \u001b[38;5;241m!=\u001b[39m \u001b[38;5;28mlen\u001b[39m(s):\n",
      "File \u001b[1;32m~\\anaconda3\\lib\\json\\decoder.py:355\u001b[0m, in \u001b[0;36mJSONDecoder.raw_decode\u001b[1;34m(self, s, idx)\u001b[0m\n\u001b[0;32m    353\u001b[0m     obj, end \u001b[38;5;241m=\u001b[39m \u001b[38;5;28mself\u001b[39m\u001b[38;5;241m.\u001b[39mscan_once(s, idx)\n\u001b[0;32m    354\u001b[0m \u001b[38;5;28;01mexcept\u001b[39;00m \u001b[38;5;167;01mStopIteration\u001b[39;00m \u001b[38;5;28;01mas\u001b[39;00m err:\n\u001b[1;32m--> 355\u001b[0m     \u001b[38;5;28;01mraise\u001b[39;00m JSONDecodeError(\u001b[38;5;124m\"\u001b[39m\u001b[38;5;124mExpecting value\u001b[39m\u001b[38;5;124m\"\u001b[39m, s, err\u001b[38;5;241m.\u001b[39mvalue) \u001b[38;5;28;01mfrom\u001b[39;00m \u001b[38;5;28mNone\u001b[39m\n\u001b[0;32m    356\u001b[0m \u001b[38;5;28;01mreturn\u001b[39;00m obj, end\n",
      "\u001b[1;31mJSONDecodeError\u001b[0m: Expecting value: line 1 column 1 (char 0)"
     ]
    }
   ],
   "source": [
    "all_tracks_df = pd.DataFrame(all_tracks)\n",
    "track_chunk_size = math.ceil(len(all_tracks_df) / 50)\n",
    "\n",
    "release_dates = []\n",
    "for tracks in np.array_split(all_tracks_df, track_chunk_size):\n",
    "    params = {'ids' : ','.join(list(tracks.track_id)),\n",
    "             'market': 'US'}\n",
    "    several_tracks = requests.get(BASE_URL+'tracks/', params=params, headers=headers)\n",
    "    for i in tracks.index:\n",
    "        j = i - tracks.index[0]\n",
    "        result = {\n",
    "            'track_id': several_tracks.json()['tracks'][j]['id'],\n",
    "            'release_date': several_tracks.json()['tracks'][j]['album']['release_date']\n",
    "        }\n",
    "        release_dates.append(result)\n",
    "        print(f'{i+1} / {len(all_tracks_df)}', end= '\\r')"
   ]
  },
  {
   "cell_type": "code",
   "execution_count": 31,
   "id": "2d80d81a",
   "metadata": {},
   "outputs": [
    {
     "ename": "NameError",
     "evalue": "name 'release_dates' is not defined",
     "output_type": "error",
     "traceback": [
      "\u001b[1;31m---------------------------------------------------------------------------\u001b[0m",
      "\u001b[1;31mNameError\u001b[0m                                 Traceback (most recent call last)",
      "Input \u001b[1;32mIn [31]\u001b[0m, in \u001b[0;36m<cell line: 1>\u001b[1;34m()\u001b[0m\n\u001b[1;32m----> 1\u001b[0m \u001b[38;5;28mlen\u001b[39m(\u001b[43mrelease_dates\u001b[49m)\n",
      "\u001b[1;31mNameError\u001b[0m: name 'release_dates' is not defined"
     ]
    }
   ],
   "source": [
    "len(release_dates)"
   ]
  },
  {
   "cell_type": "code",
   "execution_count": 31,
   "id": "5fd24b66",
   "metadata": {},
   "outputs": [],
   "source": [
    "from pyarrow import feather\n",
    "feather.write_feather(all_tracks_df, 'data/all_tracks.feather')\n",
    "feather.write_feather(all_artists, 'data/all_artists.feather')"
   ]
  },
  {
   "cell_type": "code",
   "execution_count": null,
   "id": "983dab5e",
   "metadata": {},
   "outputs": [],
   "source": []
  }
 ],
 "metadata": {
  "kernelspec": {
   "display_name": "Python 3 (ipykernel)",
   "language": "python",
   "name": "python3"
  },
  "language_info": {
   "codemirror_mode": {
    "name": "ipython",
    "version": 3
   },
   "file_extension": ".py",
   "mimetype": "text/x-python",
   "name": "python",
   "nbconvert_exporter": "python",
   "pygments_lexer": "ipython3",
   "version": "3.9.12"
  },
  "vscode": {
   "interpreter": {
    "hash": "070a145ccbfd94928d8b02e0f12481291355ea024c814c19aad4f054b2ae60ee"
   }
  }
 },
 "nbformat": 4,
 "nbformat_minor": 5
}
